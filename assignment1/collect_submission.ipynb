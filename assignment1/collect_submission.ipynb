{
 "cells": [
  {
   "cell_type": "code",
   "execution_count": null,
   "id": "81824ab8",
   "metadata": {
    "colab": {
     "base_uri": "https://localhost:8080/"
    },
    "executionInfo": {
     "elapsed": 18548,
     "status": "ok",
     "timestamp": 1744179336197,
     "user": {
      "displayName": "Chaitanya Pankajkumar Patel",
      "userId": "12528634836775253144"
     },
     "user_tz": 420
    },
    "id": "81824ab8",
    "outputId": "6e1144f8-8493-4efa-e0c5-7fa312a7c5c4"
   },
   "outputs": [],
   "source": [
    "try:\n",
    "  from google.colab import drive # pyright: ignore[reportMissingImports]\n",
    "  drive.mount('/content/drive')\n",
    "except ImportError:\n",
    "  pass\n",
    "\n",
    "# TODO: Enter the path in your Drive of the assignment.\n",
    "# e.g. 'cs231n/assignments/assignment1/'\n",
    "FOLDERNAME = 'cs231n/assignments/assignment1/'\n",
    "\n",
    "assert FOLDERNAME is not None, \"[!] Enter the foldername.\""
   ]
  },
  {
   "cell_type": "markdown",
   "id": "6be91a6a",
   "metadata": {
    "id": "6be91a6a"
   },
   "source": [
    "# Collect Submission - Zip + Generate PDF\n",
    "\n",
    "Run this notebook once you have completed all the other notebooks: `knn.ipynb`, `softmax.ipynb`, `two_layer_net.ipynb`, `features.ipynb`, and `FullyConnectedNets.ipynb`.\n",
    "\n",
    "It will:\n",
    "\n",
    "* Generate a zip file of your code (`.py` and `.ipynb`) called `a1_code_submission.zip`.\n",
    "* Convert all notebooks into a single PDF file called `a1_inline_submission.pdf`.\n",
    "\n",
    "If your submission for this step was successful, you should see the following display message:\n",
    "\n",
    "`### Done! Please submit a1_code_submission.zip and a1_inline_submission.pdf to Gradescope. ###`\n",
    "\n",
    "Make sure to download the zip and pdf file locally to your computer, then submit to Gradescope. Congrats on succesfully completing the assignment!"
   ]
  },
  {
   "cell_type": "code",
   "execution_count": null,
   "id": "aa146f82",
   "metadata": {
    "id": "aa146f82"
   },
   "outputs": [],
   "source": [
    "%cd drive/My\\ Drive\n",
    "%cd $FOLDERNAME\n",
    "!sudo apt-get install texlive-xetex texlive-fonts-recommended texlive-plain-generic texlive-latex-extra pandoc --fix-missing\n",
    "%pip install PyPDF2\n",
    "!bash collectSubmission.sh"
   ]
  }
 ],
 "metadata": {
  "colab": {
   "provenance": []
  },
  "gpuClass": "standard",
  "kernelspec": {
   "display_name": "Python 3",
   "name": "python3"
  },
  "language_info": {
   "name": "python"
  }
 },
 "nbformat": 4,
 "nbformat_minor": 5
}
